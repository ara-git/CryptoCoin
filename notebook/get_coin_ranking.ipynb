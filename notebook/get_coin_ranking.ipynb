{
 "cells": [
  {
   "cell_type": "code",
   "execution_count": 3,
   "metadata": {},
   "outputs": [
    {
     "name": "stdout",
     "output_type": "stream",
     "text": [
      "   Rank      Name Symbol  Market Cap (JPY)  Price (JPY)  24h Volume (JPY)  \\\n",
      "0     1   Bitcoin    btc   309458704358693  15632397.00     8616991958076   \n",
      "1     2  Ethereum    eth    72560502909371    602426.00     5152752089757   \n",
      "2     3       XRP    xrp    21620128170069       378.07     1703847517743   \n",
      "3     4    Tether   usdt    21550688482084       153.78    14239674781922   \n",
      "4     5    Solana    sol    16628726169742     34733.00      758955609604   \n",
      "\n",
      "   Change (24h %)  \n",
      "0         1.96442  \n",
      "1         1.07772  \n",
      "2         6.32312  \n",
      "3         0.36998  \n",
      "4         0.46698  \n"
     ]
    }
   ],
   "source": [
    "import requests\n",
    "import pandas as pd\n",
    "\n",
    "def get_top_coins_as_dataframe(limit=100):\n",
    "    # CoinGecko APIのURL\n",
    "    url = \"https://api.coingecko.com/api/v3/coins/markets\"\n",
    "    params = {\n",
    "        \"vs_currency\": \"jpy\",  # JPY単位で取得\n",
    "        \"order\": \"market_cap_desc\",  # 時価総額で降順ソート\n",
    "        \"per_page\": limit,  # 一度に取得するコイン数\n",
    "        \"page\": 1,  # ページ番号\n",
    "        \"sparkline\": False  # スパークラインデータを含まない\n",
    "    }\n",
    "    \n",
    "    try:\n",
    "        # APIリクエスト\n",
    "        response = requests.get(url, params=params)\n",
    "        response.raise_for_status()\n",
    "        coins = response.json()\n",
    "        \n",
    "        # 必要なデータを抽出\n",
    "        data = []\n",
    "        for coin in coins:\n",
    "            data.append({\n",
    "                \"Rank\": coin['market_cap_rank'],\n",
    "                \"Name\": coin['name'],\n",
    "                \"Symbol\": coin['symbol'],\n",
    "                \"Market Cap (JPY)\": coin['market_cap'],\n",
    "                \"Price (JPY)\": coin['current_price'],\n",
    "                \"24h Volume (JPY)\": coin['total_volume'],\n",
    "                \"Change (24h %)\": coin['price_change_percentage_24h']\n",
    "            })\n",
    "        \n",
    "        # データフレームに変換\n",
    "        df = pd.DataFrame(data)\n",
    "        return df\n",
    "    \n",
    "    except requests.exceptions.RequestException as e:\n",
    "        print(f\"An error occurred: {e}\")\n",
    "        return None\n",
    "\n",
    "# データフレームとして取得\n",
    "df = get_top_coins_as_dataframe()\n",
    "if df is not None:\n",
    "    print(df.head())  # 最初の数行を表示\n"
   ]
  },
  {
   "cell_type": "code",
   "execution_count": null,
   "metadata": {},
   "outputs": [],
   "source": []
  },
  {
   "cell_type": "code",
   "execution_count": 6,
   "metadata": {},
   "outputs": [],
   "source": [
    "df.to_csv(\"../data/Market_Cap_ranking_20241214.csv\", index=False)"
   ]
  }
 ],
 "metadata": {
  "kernelspec": {
   "display_name": "base",
   "language": "python",
   "name": "python3"
  },
  "language_info": {
   "codemirror_mode": {
    "name": "ipython",
    "version": 3
   },
   "file_extension": ".py",
   "mimetype": "text/x-python",
   "name": "python",
   "nbconvert_exporter": "python",
   "pygments_lexer": "ipython3",
   "version": "3.11.5"
  }
 },
 "nbformat": 4,
 "nbformat_minor": 2
}
