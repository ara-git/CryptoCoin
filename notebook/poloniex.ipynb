{
 "cells": [
  {
   "cell_type": "markdown",
   "metadata": {},
   "source": [
    "参考\n",
    "- https://qiita.com/yoshizaki_91/items/79f4056901dd9c059afb"
   ]
  },
  {
   "cell_type": "code",
   "execution_count": 8,
   "metadata": {},
   "outputs": [],
   "source": [
    "import pandas as pd\n",
    "import poloniex\n"
   ]
  },
  {
   "cell_type": "markdown",
   "metadata": {},
   "source": []
  },
  {
   "cell_type": "code",
   "execution_count": 9,
   "metadata": {},
   "outputs": [],
   "source": [
    "import time\n",
    "\n",
    "# poloniex APIの準備\n",
    "polo = poloniex.Poloniex()"
   ]
  },
  {
   "cell_type": "code",
   "execution_count": 10,
   "metadata": {},
   "outputs": [
    {
     "name": "stderr",
     "output_type": "stream",
     "text": [
      "<!DOCTYPE html>\n",
      "<html lang=\"en\">\n",
      "  <head>\n",
      "    <title>Poloniex - Crypto Asset Exchange</title>\n",
      "    <meta charset=\"UTF-8\" />\n",
      "    <style>body{background-color:#edecec;color:#323a3c;font-family:roboto,sans-serif;font-size:14px;margin:0;padding:0}.main{min-height:300px;padding:250px 10px 0;text-align:center}.logo{height:30px;margin:30px 20px 20px;width:191px}.content{background-color:#fff;margin:auto;max-width:300px;padding:30px}.content h1{font-size:20px;margin:0;padding:0 0 20px;text-transform:capitalize}.content p{line-height:20px;margin:0}.content p a{color:#1a8f5c;text-decoration:none;white-space:nowrap}.content p a:hover{text-decoration:underline}.footer{color:#818181;font-size:14px;margin:50px 0;text-align:center}.footer a,.footer a:visited{color:#1a8f5c}p.cf-msg{margin:4px 0}.cf-hidden{display:none!important}.fine{margin:22px 0 0}@media only screen and (max-width:500px){.main{padding:30px 10px}}</style>\n",
      "  \n",
      "</head>\n",
      "  <body>\n",
      "    <div class=\"main\">\n",
      "      <svg class=\"logo\" width=\"102px\" height=\"15px\" viewBox=\"0 0 84 12\" xmlns=\"http://www.w3.org/2000/svg\">\n",
      "        <path\n",
      "          d=\"M.41 11.5H2.28V7.516h2.816c2.224 0 3.488-1.536 3.488-3.344 0-1.808-1.248-3.344-3.488-3.344H.41V11.5zm6.255-7.328c0 1.024-.768 1.696-1.824 1.696h-2.56V2.476h2.56c1.056 0 1.824.672 1.824 1.696zm3.999 2c0 3.184 2.256 5.52 5.456 5.52 3.2 0 5.456-2.336 5.456-5.52 0-3.184-2.256-5.52-5.456-5.52-3.2 0-5.456 2.336-5.456 5.52zm8.992 0c0 2.192-1.392 3.856-3.536 3.856-2.16 0-3.536-1.664-3.536-3.856 0-2.208 1.376-3.856 3.536-3.856 2.144 0 3.536 1.648 3.536 3.856zm4.722 5.328h6.576V9.852H26.25V.828h-1.872V11.5zm8.301-5.328c0 3.184 2.256 5.52 5.456 5.52 3.2 0 5.456-2.336 5.456-5.52 0-3.184-2.256-5.52-5.456-5.52-3.2 0-5.456 2.336-5.456 5.52zm8.992 0c0 2.192-1.392 3.856-3.536 3.856-2.16 0-3.536-1.664-3.536-3.856 0-2.208 1.376-3.856 3.536-3.856 2.144 0 3.536 1.648 3.536 3.856zM53.834 11.5h1.808V.828H53.77v7.568L48.314.828h-1.92V11.5h1.872V3.724l5.568 7.776zm5.075 0h1.872V.828H58.91V11.5zm5.141 0h7.312V9.852h-5.44v-2.96h5.328V5.244h-5.328V2.476h5.44V.828H64.05V11.5zm17.37 0h2.24l-3.984-5.488L83.42.828h-2.256l-2.736 3.92-2.752-3.92h-2.24l3.76 5.2-4 5.472h2.24l2.992-4.176L81.42 11.5z\"\n",
      "          fill=\"#000000\"\n",
      "        />\n",
      "      </svg>\n",
      "      <div class=\"content\">\n",
      "        <h1 id=\"title\">Server Error</h1>\n",
      "        <p id=\"desc\">\n",
      "          We're sorry! Looks like the server experienced an unexpected internal error and we're looking into it.\n",
      "          <br />\n",
      "          <br />\n",
      "          Please try again in a few minutes.\n",
      "          <span class=\"fine\">\n",
      "            Check our\n",
      "            <a href=\"https://twitter.com/PoloSupport\">Support Twitter</a>\n",
      "            for status updates.\n",
      "          </span>\n",
      "          <br />\n",
      "          <br />\n",
      "          <span class=\"fine\">(Error code 500)</span>\n",
      "        </p>\n",
      "        <p class=\"cf-msg\" id=\"cf-ray\"></p>\n",
      "        <p class=\"cf-msg\" id=\"cf-ref\"></p>\n",
      "        <div class=\"cf-hidden\">::CLOUDFLARE_ERROR_500S_BOX::</div>\n",
      "      </div>\n",
      "      <div class=\"footer\">\n",
      "        &copy; Poloniex\n",
      "        <script>document.write((new Date).getFullYear());</script>\n",
      "        |\n",
      "        <a href=\"https://support.poloniex.com\">Contact Support</a>\n",
      "        <br />\n",
      "        Ray ID: 8eeacf25a844d4a6, IP: 118.109.92.102\n",
      "      </div>\n",
      "    </div>\n",
      "    <script>function translateErrorPage(e){if(!e)return;const t=document.cookie.match(/(; )?x-lang-override=([^;]*);?/),n=window.localStorage.getItem(\"uniframe:locale\")||t&&t[2]||\"\",o=document.getElementById(\"title\"),r=document.getElementById(\"desc\");n&&e.hasOwnProperty(n)&&o&&r&&(o.innerHTML=e[n].title,r.innerHTML=e[n].desc)}</script>\n",
      "    <script>var translations={\"ru-ru\":{title:\"Ошибка сервера\",desc:'Сожалеем! Похоже, на сервере произошла непредвиденная внутренняя ошибка. Мы пытаемся ее устранить.<br/><br/>Попробуйте еще раз через несколько минут. <span class=\"fine\">Следите за обновлениями статуса в <a href=\"https://twitter.com/PoloSupport\">нашей службе поддержки в Twitter.</a></span><br/><br/><span class=\"fine\">(Код ошибки 500)</span>'},\"tr-tr\":{title:\"Sunucu Hatası\",desc:'Üzgünüz! Anlaşılan sunucu beklenmedik bir iç hata yaşamış, konuyu araştırıyoruz.<br/><br/>Lütfen birkaç dakika içinde tekrar deneyin. <span class=\"fine\">Durum güncellemeleri için<a href=\"https://twitter.com/PoloSupport\">Destek Twitter</a>\\'ımıza göz atın. </span><br/><br/><span class=\"fine\">( Hata kodu 500)</span>'},\"vi-vn\":{title:\"Lỗi máy chủ\",desc:'Chúng tôi rất tiếc! Có vẻ như máy chủ đã gặp phải lỗi nội bộ không mong muốn và chúng tôi đang xem xét lỗi này.<br/><br/>Vui lòng thử lại sau ít phút.<span class=\"fine\">Xem phần<a href=\"https://twitter.com/PoloSupport\">Twitter Hỗ trợ</a> của chúng tôi để biết thông tin cập nhật.</span><br/><br/><span class=\"fine\">(Mã lỗi 500)</span>'},\"zh-cn\":{title:\"服务器错误\",desc:'很抱歉！服务器内部出现意外错误，我们正在进行调查。<br/><br/>请在几分钟后再试一次。请<span class=\"fine\">查看我们的<a href=\"https://twitter.com/PoloSupport\">客户支持 Twitter</a>，以了解最新状态。</span><br/><br/><span class=\"fine\">（错误代码 500）</span>'}};translateErrorPage(translations);</script>\n",
      "    <script>for(var i=0;i<document.querySelectorAll(\"li\").length;i++)\"Ray ID\"==(ray=document.querySelectorAll(\"li\").item(i).innerHTML).substr(0,6)&&(document.getElementById(\"cf-ray\").innerHTML=ray),\"Error\"==(ref=document.querySelectorAll(\"li\").item(i).innerHTML).substr(0,5)&&(document.getElementById(\"cf-ref\").innerHTML=ref);</script>\n",
      "  </body>\n",
      "</html>\n",
      "\n"
     ]
    },
    {
     "ename": "PoloniexError",
     "evalue": "Invalid json response returned",
     "output_type": "error",
     "traceback": [
      "\u001b[1;31m---------------------------------------------------------------------------\u001b[0m",
      "\u001b[1;31mJSONDecodeError\u001b[0m                           Traceback (most recent call last)",
      "File \u001b[1;32mc:\\Users\\ara-d\\anaconda3\\Lib\\site-packages\\poloniex\\__init__.py:244\u001b[0m, in \u001b[0;36mPoloniex.handleReturned\u001b[1;34m(self, data)\u001b[0m\n\u001b[0;32m    243\u001b[0m \u001b[38;5;28;01mif\u001b[39;00m \u001b[38;5;129;01mnot\u001b[39;00m \u001b[38;5;28mself\u001b[39m\u001b[38;5;241m.\u001b[39mjsonNums:\n\u001b[1;32m--> 244\u001b[0m     out \u001b[38;5;241m=\u001b[39m _loads(data, parse_float\u001b[38;5;241m=\u001b[39m\u001b[38;5;28mstr\u001b[39m)\n\u001b[0;32m    245\u001b[0m \u001b[38;5;28;01melse\u001b[39;00m:\n",
      "File \u001b[1;32mc:\\Users\\ara-d\\anaconda3\\Lib\\json\\__init__.py:359\u001b[0m, in \u001b[0;36mloads\u001b[1;34m(s, cls, object_hook, parse_float, parse_int, parse_constant, object_pairs_hook, **kw)\u001b[0m\n\u001b[0;32m    358\u001b[0m     kw[\u001b[38;5;124m'\u001b[39m\u001b[38;5;124mparse_constant\u001b[39m\u001b[38;5;124m'\u001b[39m] \u001b[38;5;241m=\u001b[39m parse_constant\n\u001b[1;32m--> 359\u001b[0m \u001b[38;5;28;01mreturn\u001b[39;00m \u001b[38;5;28mcls\u001b[39m(\u001b[38;5;241m*\u001b[39m\u001b[38;5;241m*\u001b[39mkw)\u001b[38;5;241m.\u001b[39mdecode(s)\n",
      "File \u001b[1;32mc:\\Users\\ara-d\\anaconda3\\Lib\\json\\decoder.py:337\u001b[0m, in \u001b[0;36mJSONDecoder.decode\u001b[1;34m(self, s, _w)\u001b[0m\n\u001b[0;32m    333\u001b[0m \u001b[38;5;250m\u001b[39m\u001b[38;5;124;03m\"\"\"Return the Python representation of ``s`` (a ``str`` instance\u001b[39;00m\n\u001b[0;32m    334\u001b[0m \u001b[38;5;124;03mcontaining a JSON document).\u001b[39;00m\n\u001b[0;32m    335\u001b[0m \n\u001b[0;32m    336\u001b[0m \u001b[38;5;124;03m\"\"\"\u001b[39;00m\n\u001b[1;32m--> 337\u001b[0m obj, end \u001b[38;5;241m=\u001b[39m \u001b[38;5;28mself\u001b[39m\u001b[38;5;241m.\u001b[39mraw_decode(s, idx\u001b[38;5;241m=\u001b[39m_w(s, \u001b[38;5;241m0\u001b[39m)\u001b[38;5;241m.\u001b[39mend())\n\u001b[0;32m    338\u001b[0m end \u001b[38;5;241m=\u001b[39m _w(s, end)\u001b[38;5;241m.\u001b[39mend()\n",
      "File \u001b[1;32mc:\\Users\\ara-d\\anaconda3\\Lib\\json\\decoder.py:355\u001b[0m, in \u001b[0;36mJSONDecoder.raw_decode\u001b[1;34m(self, s, idx)\u001b[0m\n\u001b[0;32m    354\u001b[0m \u001b[38;5;28;01mexcept\u001b[39;00m \u001b[38;5;167;01mStopIteration\u001b[39;00m \u001b[38;5;28;01mas\u001b[39;00m err:\n\u001b[1;32m--> 355\u001b[0m     \u001b[38;5;28;01mraise\u001b[39;00m JSONDecodeError(\u001b[38;5;124m\"\u001b[39m\u001b[38;5;124mExpecting value\u001b[39m\u001b[38;5;124m\"\u001b[39m, s, err\u001b[38;5;241m.\u001b[39mvalue) \u001b[38;5;28;01mfrom\u001b[39;00m \u001b[38;5;28;01mNone\u001b[39;00m\n\u001b[0;32m    356\u001b[0m \u001b[38;5;28;01mreturn\u001b[39;00m obj, end\n",
      "\u001b[1;31mJSONDecodeError\u001b[0m: Expecting value: line 1 column 1 (char 0)",
      "\nDuring handling of the above exception, another exception occurred:\n",
      "\u001b[1;31mPoloniexError\u001b[0m                             Traceback (most recent call last)",
      "Cell \u001b[1;32mIn[10], line 1\u001b[0m\n\u001b[1;32m----> 1\u001b[0m \u001b[38;5;28mprint\u001b[39m(polo(\u001b[38;5;124m'\u001b[39m\u001b[38;5;124mreturnTicker\u001b[39m\u001b[38;5;124m'\u001b[39m))\n",
      "File \u001b[1;32mc:\\Users\\ara-d\\anaconda3\\Lib\\site-packages\\poloniex\\__init__.py:143\u001b[0m, in \u001b[0;36mPoloniex.retry.<locals>.retrying\u001b[1;34m(*args, **kwargs)\u001b[0m\n\u001b[0;32m    140\u001b[0m \u001b[38;5;28;01mfor\u001b[39;00m delay \u001b[38;5;129;01min\u001b[39;00m _chain(retryDelays, [\u001b[38;5;28;01mNone\u001b[39;00m]):\n\u001b[0;32m    141\u001b[0m     \u001b[38;5;28;01mtry\u001b[39;00m:\n\u001b[0;32m    142\u001b[0m         \u001b[38;5;66;03m# attempt call\u001b[39;00m\n\u001b[1;32m--> 143\u001b[0m         \u001b[38;5;28;01mreturn\u001b[39;00m func(\u001b[38;5;241m*\u001b[39margs, \u001b[38;5;241m*\u001b[39m\u001b[38;5;241m*\u001b[39mkwargs)\n\u001b[0;32m    145\u001b[0m     \u001b[38;5;66;03m# we need to try again\u001b[39;00m\n\u001b[0;32m    146\u001b[0m     \u001b[38;5;28;01mexcept\u001b[39;00m RequestException \u001b[38;5;28;01mas\u001b[39;00m problem:\n",
      "File \u001b[1;32mc:\\Users\\ara-d\\anaconda3\\Lib\\site-packages\\poloniex\\__init__.py:218\u001b[0m, in \u001b[0;36mPoloniex.__call__\u001b[1;34m(self, command, args)\u001b[0m\n\u001b[0;32m    215\u001b[0m ret \u001b[38;5;241m=\u001b[39m _get(\u001b[38;5;241m*\u001b[39m\u001b[38;5;241m*\u001b[39mpayload)\n\u001b[0;32m    217\u001b[0m \u001b[38;5;66;03m# return data\u001b[39;00m\n\u001b[1;32m--> 218\u001b[0m \u001b[38;5;28;01mreturn\u001b[39;00m \u001b[38;5;28mself\u001b[39m\u001b[38;5;241m.\u001b[39mhandleReturned(ret\u001b[38;5;241m.\u001b[39mtext)\n",
      "File \u001b[1;32mc:\\Users\\ara-d\\anaconda3\\Lib\\site-packages\\poloniex\\__init__.py:251\u001b[0m, in \u001b[0;36mPoloniex.handleReturned\u001b[1;34m(self, data)\u001b[0m\n\u001b[0;32m    249\u001b[0m \u001b[38;5;28;01mexcept\u001b[39;00m:\n\u001b[0;32m    250\u001b[0m     \u001b[38;5;28mself\u001b[39m\u001b[38;5;241m.\u001b[39mlogger\u001b[38;5;241m.\u001b[39merror(data)\n\u001b[1;32m--> 251\u001b[0m     \u001b[38;5;28;01mraise\u001b[39;00m PoloniexError(\u001b[38;5;124m'\u001b[39m\u001b[38;5;124mInvalid json response returned\u001b[39m\u001b[38;5;124m'\u001b[39m)\n\u001b[0;32m    253\u001b[0m \u001b[38;5;66;03m# check if poloniex returned an error\u001b[39;00m\n\u001b[0;32m    254\u001b[0m \u001b[38;5;28;01mif\u001b[39;00m \u001b[38;5;124m'\u001b[39m\u001b[38;5;124merror\u001b[39m\u001b[38;5;124m'\u001b[39m \u001b[38;5;129;01min\u001b[39;00m out:\n\u001b[0;32m    255\u001b[0m \n\u001b[0;32m    256\u001b[0m     \u001b[38;5;66;03m# update nonce if we fell behind\u001b[39;00m\n",
      "\u001b[1;31mPoloniexError\u001b[0m: Invalid json response returned"
     ]
    }
   ],
   "source": [
    "print(polo('returnTicker'))"
   ]
  }
 ],
 "metadata": {
  "kernelspec": {
   "display_name": "base",
   "language": "python",
   "name": "python3"
  },
  "language_info": {
   "codemirror_mode": {
    "name": "ipython",
    "version": 3
   },
   "file_extension": ".py",
   "mimetype": "text/x-python",
   "name": "python",
   "nbconvert_exporter": "python",
   "pygments_lexer": "ipython3",
   "version": "3.11.5"
  }
 },
 "nbformat": 4,
 "nbformat_minor": 2
}
