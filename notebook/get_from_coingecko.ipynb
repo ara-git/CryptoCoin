{
 "cells": [
  {
   "cell_type": "markdown",
   "metadata": {},
   "source": [
    "# 参考\n",
    "https://tkstock.site/2018/06/12/post-402/"
   ]
  },
  {
   "cell_type": "code",
   "execution_count": 2,
   "metadata": {},
   "outputs": [],
   "source": [
    "import pandas as pd\n",
    "from pycoingecko import CoinGeckoAPI\n",
    "import matplotlib.pyplot as plt\n",
    "import time\n",
    "import concurrent.futures"
   ]
  },
  {
   "cell_type": "markdown",
   "metadata": {},
   "source": [
    "## ユニバースを定義する\n",
    "Coincheckで購入可能なコインのみ"
   ]
  },
  {
   "cell_type": "code",
   "execution_count": 3,
   "metadata": {},
   "outputs": [
    {
     "data": {
      "text/plain": [
       "['bitcoin', 'ethereum', 'ethereum-classic', 'lisk', 'ripple']"
      ]
     },
     "execution_count": 3,
     "metadata": {},
     "output_type": "execute_result"
    }
   ],
   "source": [
    "universe_list = pd.read_excel(\"../data/universe.xlsx\")\n",
    "universe_list = list(universe_list[\"ID\"])\n",
    "universe_list[:5]"
   ]
  },
  {
   "cell_type": "markdown",
   "metadata": {},
   "source": [
    "## CoinGechoから仮想通貨の情報を取得する"
   ]
  },
  {
   "cell_type": "code",
   "execution_count": 4,
   "metadata": {},
   "outputs": [
    {
     "data": {
      "text/html": [
       "<div>\n",
       "<style scoped>\n",
       "    .dataframe tbody tr th:only-of-type {\n",
       "        vertical-align: middle;\n",
       "    }\n",
       "\n",
       "    .dataframe tbody tr th {\n",
       "        vertical-align: top;\n",
       "    }\n",
       "\n",
       "    .dataframe thead th {\n",
       "        text-align: right;\n",
       "    }\n",
       "</style>\n",
       "<table border=\"1\" class=\"dataframe\">\n",
       "  <thead>\n",
       "    <tr style=\"text-align: right;\">\n",
       "      <th></th>\n",
       "      <th>id</th>\n",
       "      <th>symbol</th>\n",
       "      <th>name</th>\n",
       "    </tr>\n",
       "  </thead>\n",
       "  <tbody>\n",
       "    <tr>\n",
       "      <th>0</th>\n",
       "      <td>01coin</td>\n",
       "      <td>zoc</td>\n",
       "      <td>01coin</td>\n",
       "    </tr>\n",
       "    <tr>\n",
       "      <th>1</th>\n",
       "      <td>0chain</td>\n",
       "      <td>zcn</td>\n",
       "      <td>Zus</td>\n",
       "    </tr>\n",
       "    <tr>\n",
       "      <th>2</th>\n",
       "      <td>0dog</td>\n",
       "      <td>0dog</td>\n",
       "      <td>Bitcoin Dogs</td>\n",
       "    </tr>\n",
       "    <tr>\n",
       "      <th>3</th>\n",
       "      <td>0-knowledge-network</td>\n",
       "      <td>0kn</td>\n",
       "      <td>0 Knowledge Network</td>\n",
       "    </tr>\n",
       "    <tr>\n",
       "      <th>4</th>\n",
       "      <td>0-mee</td>\n",
       "      <td>ome</td>\n",
       "      <td>O-MEE</td>\n",
       "    </tr>\n",
       "  </tbody>\n",
       "</table>\n",
       "</div>"
      ],
      "text/plain": [
       "                    id symbol                 name\n",
       "0               01coin    zoc               01coin\n",
       "1               0chain    zcn                  Zus\n",
       "2                 0dog   0dog         Bitcoin Dogs\n",
       "3  0-knowledge-network    0kn  0 Knowledge Network\n",
       "4                0-mee    ome                O-MEE"
      ]
     },
     "execution_count": 4,
     "metadata": {},
     "output_type": "execute_result"
    }
   ],
   "source": [
    "# CoinGecko APIクライアントを作成\n",
    "cg = CoinGeckoAPI()\n",
    "\n",
    "# 仮想通貨リストを取得\n",
    "coin_list = cg.get_coins_list()\n",
    "coin_list_df = pd.DataFrame(coin_list)\n",
    "coin_list_df.head()"
   ]
  },
  {
   "cell_type": "code",
   "execution_count": 5,
   "metadata": {},
   "outputs": [
    {
     "data": {
      "text/html": [
       "<div>\n",
       "<style scoped>\n",
       "    .dataframe tbody tr th:only-of-type {\n",
       "        vertical-align: middle;\n",
       "    }\n",
       "\n",
       "    .dataframe tbody tr th {\n",
       "        vertical-align: top;\n",
       "    }\n",
       "\n",
       "    .dataframe thead th {\n",
       "        text-align: right;\n",
       "    }\n",
       "</style>\n",
       "<table border=\"1\" class=\"dataframe\">\n",
       "  <thead>\n",
       "    <tr style=\"text-align: right;\">\n",
       "      <th></th>\n",
       "      <th>id</th>\n",
       "      <th>symbol</th>\n",
       "      <th>name</th>\n",
       "    </tr>\n",
       "  </thead>\n",
       "  <tbody>\n",
       "    <tr>\n",
       "      <th>0</th>\n",
       "      <td>avalanche-2</td>\n",
       "      <td>avax</td>\n",
       "      <td>Avalanche</td>\n",
       "    </tr>\n",
       "    <tr>\n",
       "      <th>1</th>\n",
       "      <td>bitcoin</td>\n",
       "      <td>btc</td>\n",
       "      <td>Bitcoin</td>\n",
       "    </tr>\n",
       "    <tr>\n",
       "      <th>2</th>\n",
       "      <td>bitcoin-cash</td>\n",
       "      <td>bch</td>\n",
       "      <td>Bitcoin Cash</td>\n",
       "    </tr>\n",
       "    <tr>\n",
       "      <th>3</th>\n",
       "      <td>blood-crystal</td>\n",
       "      <td>bc</td>\n",
       "      <td>Blood Crystal</td>\n",
       "    </tr>\n",
       "    <tr>\n",
       "      <th>4</th>\n",
       "      <td>bridged-wbtc</td>\n",
       "      <td>wbtc</td>\n",
       "      <td>Bridged WBTC</td>\n",
       "    </tr>\n",
       "  </tbody>\n",
       "</table>\n",
       "</div>"
      ],
      "text/plain": [
       "              id symbol           name\n",
       "0    avalanche-2   avax      Avalanche\n",
       "1        bitcoin    btc        Bitcoin\n",
       "2   bitcoin-cash    bch   Bitcoin Cash\n",
       "3  blood-crystal     bc  Blood Crystal\n",
       "4   bridged-wbtc   wbtc   Bridged WBTC"
      ]
     },
     "execution_count": 5,
     "metadata": {},
     "output_type": "execute_result"
    }
   ],
   "source": [
    "# ユニバースのコインのみ抽出\n",
    "filtered_df = coin_list_df[coin_list_df[\"id\"].isin(universe_list)]\n",
    "filtered_df.reset_index(inplace = True, drop = True)\n",
    "filtered_df.head()"
   ]
  },
  {
   "cell_type": "code",
   "execution_count": 7,
   "metadata": {},
   "outputs": [],
   "source": [
    "def get_specific_coin_data(coin_id, currency, days):\n",
    "    \"\"\"指定されたコインのデータを取得する関数\"\"\"\n",
    "    return cg.get_coin_market_chart_by_id(id=coin_id, vs_currency=currency, days=days)\n",
    "\n",
    "def fetch_coin_data_with_timeout(row, timeout=5):\n",
    "    \"\"\"タイムアウト付きでコインデータを取得する\"\"\"\n",
    "    coin_id = row[\"id\"]\n",
    "    currency = \"jpy\"\n",
    "    days = \"365\"\n",
    "\n",
    "    with concurrent.futures.ThreadPoolExecutor() as executor:\n",
    "        future = executor.submit(get_specific_coin_data, coin_id, currency, days)\n",
    "        try:\n",
    "            return future.result(timeout=timeout)  # タイムアウトを設定\n",
    "        except concurrent.futures.TimeoutError:\n",
    "            print(f\"処理がタイムアウトしました: {coin_id}\")\n",
    "            return None\n",
    "\n",
    "# コインデータを格納するDataFrame\n",
    "all_coin_df = pd.DataFrame([])\n",
    "\n",
    "for i in range(len(filtered_df)):\n",
    "    specific_coin_data_input = filtered_df.iloc[i]\n",
    "\n",
    "    # タイムアウト付きでデータ取得\n",
    "    specific_coin_data = fetch_coin_data_with_timeout(specific_coin_data_input, timeout=5)\n",
    "\n",
    "    if specific_coin_data:\n",
    "        # 必要な処理に応じてデータを整形して追加\n",
    "        coin_data_df = pd.DataFrame(specific_coin_data['prices'], columns=[\"timestamp\", \"price\"])\n",
    "\n",
    "        # 列名を変える\n",
    "        new_col_name = specific_coin_data_input[\"name\"] + \"_price\"\n",
    "        coin_data_df.rename({\"price\": new_col_name}, inplace=True, axis = 1)\n",
    "\n",
    "        # 横結合\n",
    "        if i == 0:\n",
    "            all_coin_df = coin_data_df\n",
    "        else:\n",
    "            all_coin_df = pd.merge(all_coin_df, coin_data_df, on = \"timestamp\", how = \"outer\")\n",
    "\n",
    "    time.sleep(30)  # APIの呼び出し間隔を調整\n"
   ]
  },
  {
   "cell_type": "code",
   "execution_count": 8,
   "metadata": {},
   "outputs": [],
   "source": [
    "from datetime import datetime\n",
    "\n",
    "def unix_millis_to_datetime(unix_millis):\n",
    "    # UNIXミリ秒を秒に変換\n",
    "    unix_seconds = unix_millis / 1000.0\n",
    "    \n",
    "    # datetimeオブジェクトに変換\n",
    "    dt_object = datetime.utcfromtimestamp(unix_seconds)\n",
    "    \n",
    "    return dt_object"
   ]
  },
  {
   "cell_type": "code",
   "execution_count": 9,
   "metadata": {},
   "outputs": [],
   "source": [
    "all_coin_df[\"timestamp\"] = all_coin_df[\"timestamp\"].map(unix_millis_to_datetime)"
   ]
  },
  {
   "cell_type": "code",
   "execution_count": 10,
   "metadata": {},
   "outputs": [
    {
     "data": {
      "image/png": "[encoded data removed]",
      "text/plain": [
       "<Figure size 1000x500 with 1 Axes>"
      ]
     },
     "metadata": {},
     "output_type": "display_data"
    }
   ],
   "source": [
    "plt.figure(figsize=(10, 5))\n",
    "plt.xlabel(\"Date\")\n",
    "plt.ylabel(\"Price (JPY)\")\n",
    "plt.xticks(rotation=45)\n",
    "plt.grid(True)\n",
    "plt.tight_layout()\n",
    "plt.plot(all_coin_df[[\"timestamp\"]], all_coin_df[[\"Bitcoin_price\"]])\n",
    "plt.show()"
   ]
  },
  {
   "cell_type": "code",
   "execution_count": 18,
   "metadata": {},
   "outputs": [],
   "source": [
    "all_coin_df.to_csv(\"../data/price_data.csv\")"
   ]
  },
  {
   "cell_type": "markdown",
   "metadata": {},
   "source": []
  }
 ],
 "metadata": {
  "kernelspec": {
   "display_name": "base",
   "language": "python",
   "name": "python3"
  },
  "language_info": {
   "codemirror_mode": {
    "name": "ipython",
    "version": 3
   },
   "file_extension": ".py",
   "mimetype": "text/x-python",
   "name": "python",
   "nbconvert_exporter": "python",
   "pygments_lexer": "ipython3",
   "version": "3.11.5"
  }
 },
 "nbformat": 4,
 "nbformat_minor": 2
}
